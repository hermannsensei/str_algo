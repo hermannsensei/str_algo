{
 "cells": [
  {
   "cell_type": "code",
   "execution_count": null,
   "metadata": {},
   "outputs": [
    {
     "name": "stdout",
     "output_type": "stream",
     "text": [
      "\n",
      "Qmzlthz8hi\n",
      "\n",
      "XH8Il1ztn0\n",
      "\n",
      "r1R1nuaHPO\n",
      "\n",
      "GcwaVu17zg\n",
      "\n",
      "8bNaaH9kmn\n"
     ]
    }
   ],
   "source": [
    "from random import randint\n",
    "chaine='0123456789ABCDEFGHIJKLMNOPQRSTUVWXYZabcdefghijklmnopqrstuvwxyz'\n",
    "def password(N):\n",
    "    i=0\n",
    "    passwd=\"\"\n",
    "    while i<N :\n",
    "        passwd =passwd + chaine[randint(0,len(chaine)-1)]\n",
    "        i = i+1\n",
    "    return passwd\n",
    "while True:\n",
    "    choix = input()\n",
    "    if choix=='q':\n",
    "        break\n",
    "    print(password(10))\n",
    "    \n",
    "                        \n"
   ]
  },
  {
   "cell_type": "code",
   "execution_count": null,
   "metadata": {},
   "outputs": [],
   "source": []
  }
 ],
 "metadata": {
  "kernelspec": {
   "display_name": "Python 3",
   "language": "python",
   "name": "python3"
  },
  "language_info": {
   "codemirror_mode": {
    "name": "ipython",
    "version": 3
   },
   "file_extension": ".py",
   "mimetype": "text/x-python",
   "name": "python",
   "nbconvert_exporter": "python",
   "pygments_lexer": "ipython3",
   "version": "3.6.5"
  }
 },
 "nbformat": 4,
 "nbformat_minor": 2
}
